{
 "cells": [
  {
   "cell_type": "markdown",
   "metadata": {},
   "source": [
    "## Introduction "
   ]
  },
  {
   "cell_type": "markdown",
   "metadata": {},
   "source": [
    "The official site of this contest: http://iditarod.com/"
   ]
  },
  {
   "cell_type": "code",
   "execution_count": null,
   "metadata": {
    "collapsed": true
   },
   "outputs": [],
   "source": []
  },
  {
   "cell_type": "markdown",
   "metadata": {},
   "source": [
    "## Setup"
   ]
  },
  {
   "cell_type": "code",
   "execution_count": 77,
   "metadata": {
    "collapsed": false
   },
   "outputs": [
    {
     "data": {
      "text/html": [
       "<script>requirejs.config({paths: { 'plotly': ['https://cdn.plot.ly/plotly-latest.min']},});if(!window.Plotly) {{require(['plotly'],function(plotly) {window.Plotly=plotly;});}}</script>"
      ],
      "text/plain": [
       "<IPython.core.display.HTML object>"
      ]
     },
     "metadata": {},
     "output_type": "display_data"
    }
   ],
   "source": [
    "### Load required packages\n",
    "import numpy as np \n",
    "import pandas as pd \n",
    "import scipy as sp\n",
    "import matplotlib.pyplot as plt \n",
    "%matplotlib inline \n",
    "import seaborn as sns\n",
    "\n",
    "import plotly as py\n",
    "import plotly.graph_objs as go\n",
    "py.offline.init_notebook_mode(connected=True) # run at the start of every ipython notebook so that we can work offline\n",
    "import warnings\n",
    "warnings.filterwarnings('ignore')"
   ]
  },
  {
   "cell_type": "code",
   "execution_count": 78,
   "metadata": {
    "collapsed": false
   },
   "outputs": [
    {
     "name": "stdout",
     "output_type": "stream",
     "text": [
      "Shape:\n",
      "(1146, 17)\n",
      "\n",
      "Information:\n",
      "<class 'pandas.core.frame.DataFrame'>\n",
      "RangeIndex: 1146 entries, 0 to 1145\n",
      "Data columns (total 17 columns):\n",
      "Number            1146 non-null int64\n",
      "Name              1146 non-null object\n",
      "Status            1146 non-null object\n",
      "Country           1146 non-null object\n",
      "Checkpoint        1146 non-null object\n",
      "Latitude          1146 non-null float64\n",
      "Longitude         1146 non-null float64\n",
      "Distance          1074 non-null float64\n",
      "Time              1146 non-null float64\n",
      "Speed             1074 non-null float64\n",
      "Arrival Date      1074 non-null object\n",
      "Arrival Time      1074 non-null object\n",
      "Arrival Dogs      1074 non-null float64\n",
      "Elapsed Time      1145 non-null float64\n",
      "Departure Date    1074 non-null object\n",
      "Departure Time    1074 non-null object\n",
      "Departure Dogs    1074 non-null float64\n",
      "dtypes: float64(8), int64(1), object(8)\n",
      "memory usage: 152.3+ KB\n",
      "None\n",
      "\n",
      "Some examples:\n",
      "   Number             Name   Status         Country Checkpoint  Latitude  \\\n",
      "0       2   Ryan Redington  Veteran   United States  Fairbanks   64.8321   \n",
      "1       3      Otto Balogh   Rookie         Hungary  Fairbanks   64.8321   \n",
      "2       4     Misha Wiljes   Rookie  Czech Republic  Fairbanks   64.8321   \n",
      "3       5     Cody Strathe  Veteran   United States  Fairbanks   64.8321   \n",
      "4       6  Linwood Fiedler  Veteran   United States  Fairbanks   64.8321   \n",
      "\n",
      "   Longitude  Distance  Time  Speed Arrival Date Arrival Time  Arrival Dogs  \\\n",
      "0   -147.813       NaN   0.0    NaN          NaN          NaN           NaN   \n",
      "1   -147.813       NaN   0.0    NaN          NaN          NaN           NaN   \n",
      "2   -147.813       NaN   0.0    NaN          NaN          NaN           NaN   \n",
      "3   -147.813       NaN   0.0    NaN          NaN          NaN           NaN   \n",
      "4   -147.813       NaN   0.0    NaN          NaN          NaN           NaN   \n",
      "\n",
      "   Elapsed Time Departure Date Departure Time  Departure Dogs  \n",
      "0           0.0     03/06/2017       11:00:00            16.0  \n",
      "1           NaN            NaN            NaN             NaN  \n",
      "2           0.0     03/06/2017       11:04:00            15.0  \n",
      "3           0.0     03/06/2017       11:06:00            16.0  \n",
      "4           0.0     03/06/2017       11:08:00            16.0  \n"
     ]
    }
   ],
   "source": [
    "### load the dataset \n",
    "df = pd.read_csv('D:/Dataset/Side_project_Iditarod/report.csv', encoding='utf-8')\n",
    "\n",
    "print('Shape:')\n",
    "print(df.shape)\n",
    "\n",
    "print('\\nInformation:')\n",
    "print(df.info())\n",
    "\n",
    "print('\\nSome examples:')\n",
    "print(df.head())"
   ]
  },
  {
   "cell_type": "markdown",
   "metadata": {},
   "source": [
    "It looks like that most of the NAs follow certain rules, for example, at the starting checkpoint, we wouldn't have data on arrival-related features. However, in the column \"Elapsed Time\", there is only one NA, let's check it out."
   ]
  },
  {
   "cell_type": "code",
   "execution_count": 79,
   "metadata": {
    "collapsed": false
   },
   "outputs": [
    {
     "name": "stdout",
     "output_type": "stream",
     "text": [
      "Print out the contestant:\n",
      "   Number         Name  Status  Country Checkpoint  Latitude  Longitude  \\\n",
      "1       3  Otto Balogh  Rookie  Hungary  Fairbanks   64.8321   -147.813   \n",
      "\n",
      "   Distance  Time  Speed Arrival Date Arrival Time  Arrival Dogs  \\\n",
      "1       NaN   0.0    NaN          NaN          NaN           NaN   \n",
      "\n",
      "   Elapsed Time Departure Date Departure Time  Departure Dogs  \n",
      "1           NaN            NaN            NaN             NaN  \n",
      "\n",
      "Count of this contestant:\n",
      "1\n",
      "\n",
      "Check the count of other contestants:\n",
      "Otto Balogh         1\n",
      "Mark May            4\n",
      "Mark Selland        5\n",
      "Ryan Anderson       6\n",
      "Ellen Halverson     8\n",
      "Dave Branholm      10\n",
      "Monica Zappa       12\n",
      "Roger Lee          12\n",
      "Misha Wiljes       17\n",
      "Jimmy Lebling      17\n",
      "Name: Name, dtype: int64\n"
     ]
    }
   ],
   "source": [
    "### Check the NAs\n",
    "print('Print out the contestant:')\n",
    "print(df.ix[df['Elapsed Time'].isnull(), :])\n",
    "\n",
    "print('\\nCount of this contestant:')\n",
    "print(np.sum(df['Name'] == 'Otto Balogh'))\n",
    "\n",
    "print('\\nCheck the count of other contestants:')\n",
    "print(df['Name'].value_counts().sort_values(ascending=True).head(10))"
   ]
  },
  {
   "cell_type": "markdown",
   "metadata": {},
   "source": [
    "From the table above, we can find that the contestant Otto Balogh only has one data on the starting checkpoint, which may mean he have to stop participating the competition due to some reasons, I decide to remove this data from the dataset."
   ]
  },
  {
   "cell_type": "code",
   "execution_count": 80,
   "metadata": {
    "collapsed": false
   },
   "outputs": [
    {
     "name": "stdout",
     "output_type": "stream",
     "text": [
      "<class 'pandas.core.frame.DataFrame'>\n",
      "Int64Index: 1145 entries, 0 to 1145\n",
      "Data columns (total 17 columns):\n",
      "Number            1145 non-null int64\n",
      "Name              1145 non-null object\n",
      "Status            1145 non-null object\n",
      "Country           1145 non-null object\n",
      "Checkpoint        1145 non-null object\n",
      "Latitude          1145 non-null float64\n",
      "Longitude         1145 non-null float64\n",
      "Distance          1074 non-null float64\n",
      "Time              1145 non-null float64\n",
      "Speed             1074 non-null float64\n",
      "Arrival Date      1074 non-null object\n",
      "Arrival Time      1074 non-null object\n",
      "Arrival Dogs      1074 non-null float64\n",
      "Elapsed Time      1145 non-null float64\n",
      "Departure Date    1074 non-null object\n",
      "Departure Time    1074 non-null object\n",
      "Departure Dogs    1074 non-null float64\n",
      "dtypes: float64(8), int64(1), object(8)\n",
      "memory usage: 161.0+ KB\n",
      "None\n"
     ]
    }
   ],
   "source": [
    "### Remove the contestant who cannot participate in the competition\n",
    "df_rem = df.ix[~df['Elapsed Time'].isnull(), :]\n",
    "print(df_rem.info()) # for checking"
   ]
  },
  {
   "cell_type": "markdown",
   "metadata": {},
   "source": [
    "## EDA"
   ]
  },
  {
   "cell_type": "markdown",
   "metadata": {},
   "source": [
    "#### How many contestants are there for each country"
   ]
  },
  {
   "cell_type": "code",
   "execution_count": 81,
   "metadata": {
    "collapsed": false
   },
   "outputs": [
    {
     "name": "stdout",
     "output_type": "stream",
     "text": [
      "Number of unique contestants (excluding one that has been removed):\n",
      "71\n",
      "\n",
      "Distributioin of contestants by country:\n",
      "Country\n",
      "United States     60\n",
      "Norway             4\n",
      "France             2\n",
      "Canada             2\n",
      "Sweden             1\n",
      "England            1\n",
      "Czech Republic     1\n",
      "Name: Name, dtype: int64\n"
     ]
    }
   ],
   "source": [
    "### Count of unique contestants\n",
    "print('Number of unique contestants (excluding one that has been removed):')\n",
    "print(len(df_rem['Name'].value_counts()))\n",
    "\n",
    "### Group by the country\n",
    "con_country = df_rem['Name'].groupby(df_rem['Country'])\n",
    "print('\\nDistributioin of contestants by country:')\n",
    "print(con_country.nunique().sort_values(ascending=False))"
   ]
  },
  {
   "cell_type": "code",
   "execution_count": 89,
   "metadata": {
    "collapsed": false
   },
   "outputs": [
    {
     "data": {
      "application/vnd.plotly.v1+json": {
       "data": [
        {
         "marker": {
          "color": "#FF3333"
         },
         "type": "bar",
         "x": [
          "United States",
          "Norway",
          "France",
          "Canada",
          "Sweden",
          "England",
          "Czech Republic"
         ],
         "y": [
          60,
          4,
          2,
          2,
          1,
          1,
          1
         ]
        }
       ],
       "layout": {
        "title": "Count of Contestants by Country"
       }
      },
      "text/html": [
       "<div id=\"ae4f19f0-9e5f-473b-8c92-114d82047ec3\" style=\"height: 525px; width: 100%;\" class=\"plotly-graph-div\"></div><script type=\"text/javascript\">require([\"plotly\"], function(Plotly) { window.PLOTLYENV=window.PLOTLYENV || {};window.PLOTLYENV.BASE_URL=\"https://plot.ly\";Plotly.newPlot(\"ae4f19f0-9e5f-473b-8c92-114d82047ec3\", [{\"type\": \"bar\", \"y\": [60, 4, 2, 2, 1, 1, 1], \"x\": [\"United States\", \"Norway\", \"France\", \"Canada\", \"Sweden\", \"England\", \"Czech Republic\"], \"marker\": {\"color\": \"#FF3333\"}}], {\"title\": \"Count of Contestants by Country\"}, {\"linkText\": \"Export to plot.ly\", \"showLink\": true})});</script>"
      ]
     },
     "metadata": {},
     "output_type": "display_data"
    }
   ],
   "source": [
    "### Visualize\n",
    "\n",
    "tb = con_country.nunique().sort_values(ascending=False)\n",
    "\n",
    "trace = go.Bar(\n",
    "    x = list(tb.index),\n",
    "    y = list(tb.values),\n",
    "    marker = dict(\n",
    "    color = '#FF3333'))\n",
    "\n",
    "layout = go.Layout(\n",
    "    title = 'Count of Contestants by Country')\n",
    "\n",
    "data = [trace]\n",
    "\n",
    "fig = go.Figure(data=data, layout=layout)\n",
    "py.offline.iplot(fig)"
   ]
  },
  {
   "cell_type": "markdown",
   "metadata": {},
   "source": [
    "#### How many contestants are veterans and rookies?"
   ]
  },
  {
   "cell_type": "code",
   "execution_count": 106,
   "metadata": {
    "collapsed": false
   },
   "outputs": [
    {
     "name": "stdout",
     "output_type": "stream",
     "text": [
      "Veteran    889\n",
      "Rookie     256\n",
      "Name: Status, dtype: int64\n",
      "\n",
      "True distribution of status:\n",
      "Veteran    55\n",
      "Rookie     16\n",
      "Name: Status, dtype: int64\n"
     ]
    }
   ],
   "source": [
    "### check the classes of status \n",
    "print(df_rem['Status'].value_counts()) \n",
    "\n",
    "### drop the duplicate data to calculate the true number for both classes\n",
    "ind_con = df_rem.drop_duplicates(['Name'])[['Name', 'Status']].set_index('Name')\n",
    "tb = ind_con['Status'].value_counts().sort_values(ascending=False)\n",
    "print('\\nTrue distribution of status:')\n",
    "print(tb)"
   ]
  },
  {
   "cell_type": "code",
   "execution_count": 105,
   "metadata": {
    "collapsed": false
   },
   "outputs": [
    {
     "data": {
      "application/vnd.plotly.v1+json": {
       "data": [
        {
         "marker": {
          "color": "#FF3333"
         },
         "type": "bar",
         "width": 0.3,
         "x": [
          "Veteran",
          "Rookie"
         ],
         "y": [
          55,
          16
         ]
        }
       ],
       "layout": {
        "title": "Count of Status"
       }
      },
      "text/html": [
       "<div id=\"05e4d11b-4113-467f-9851-3f28ac149218\" style=\"height: 525px; width: 100%;\" class=\"plotly-graph-div\"></div><script type=\"text/javascript\">require([\"plotly\"], function(Plotly) { window.PLOTLYENV=window.PLOTLYENV || {};window.PLOTLYENV.BASE_URL=\"https://plot.ly\";Plotly.newPlot(\"05e4d11b-4113-467f-9851-3f28ac149218\", [{\"type\": \"bar\", \"width\": 0.3, \"y\": [55, 16], \"x\": [\"Veteran\", \"Rookie\"], \"marker\": {\"color\": \"#FF3333\"}}], {\"title\": \"Count of Status\"}, {\"linkText\": \"Export to plot.ly\", \"showLink\": true})});</script>"
      ]
     },
     "metadata": {},
     "output_type": "display_data"
    }
   ],
   "source": [
    "### Visualize \n",
    "\n",
    "trace = go.Bar(\n",
    "    x = list(tb.index),\n",
    "    y = list(tb.values),\n",
    "    width=0.3,\n",
    "    marker = dict(\n",
    "    color = '#FF3333'))\n",
    "\n",
    "layout = go.Layout(\n",
    "    title = 'Count of Status')\n",
    "\n",
    "data = [trace]\n",
    "\n",
    "fig = go.Figure(data=data, layout=layout)\n",
    "py.offline.iplot(fig)"
   ]
  },
  {
   "cell_type": "code",
   "execution_count": null,
   "metadata": {
    "collapsed": false
   },
   "outputs": [],
   "source": []
  },
  {
   "cell_type": "markdown",
   "metadata": {},
   "source": [
    "#### The toughest route"
   ]
  },
  {
   "cell_type": "code",
   "execution_count": 151,
   "metadata": {
    "collapsed": false
   },
   "outputs": [
    {
     "name": "stdout",
     "output_type": "stream",
     "text": [
      "            Latitude  Longitude      Speed\n",
      "Checkpoint                                \n",
      "Elim         64.6162  -162.2494   7.937344\n",
      "Fairbanks    64.8321  -147.8130        NaN\n",
      "Galena       64.7322  -156.9352   8.207246\n",
      "Huslia       65.6568  -156.4550   5.959706\n",
      "Kaltag       64.3138  -158.7257  11.056418\n"
     ]
    }
   ],
   "source": [
    "### Create the table \n",
    "group_checkpoint = df_rem.groupby(['Checkpoint'])\n",
    "\n",
    "checkpoint_tb = df_rem.drop_duplicates(['Checkpoint'])[['Checkpoint', 'Latitude', 'Longitude']].set_index('Checkpoint')\n",
    "checkpoint_tb = pd.merge(\n",
    "    checkpoint_tb,\n",
    "    pd.DataFrame(group_checkpoint['Speed'].mean()),\n",
    "    right_index = True,\n",
    "    left_index = True\n",
    ")\n",
    "\n",
    "print(checkpoint_tb.head()) # for checking"
   ]
  },
  {
   "cell_type": "code",
   "execution_count": 116,
   "metadata": {
    "collapsed": false
   },
   "outputs": [
    {
     "data": {
      "text/plain": [
       "4.947097796321192"
      ]
     },
     "execution_count": 116,
     "metadata": {},
     "output_type": "execute_result"
    }
   ],
   "source": [
    "968.0/()"
   ]
  },
  {
   "cell_type": "code",
   "execution_count": 183,
   "metadata": {
    "collapsed": false
   },
   "outputs": [
    {
     "name": "stdout",
     "output_type": "stream",
     "text": [
      "            Latitude  Longitude       Speed  Level Checkpoint  Order\n",
      "Checkpoint                                                          \n",
      "Fairbanks    64.8321  -147.8130  100.000000      1  Fairbanks      0\n",
      "Nenana       64.5952  -149.0897    9.833380      3     Nenana      1\n",
      "Manley       65.0317  -150.6352    6.238169     13     Manley      2\n",
      "Tanana       65.2010  -152.0816    6.499296     12     Tanana      3\n",
      "Ruby         64.7386  -155.5011    5.350286     16       Ruby      4\n"
     ]
    }
   ],
   "source": [
    "### Get the level of toughness (measured by the average speed)\n",
    "checkpoint_tb.fillna(100, inplace=True)\n",
    "\n",
    "### rank the toughness\n",
    "checkpoint_tb['Level'] = checkpoint_tb['Speed'].rank(ascending=False)\n",
    "checkpoint_tb['Level'] = checkpoint_tb['Level'].astype(int)\n",
    "\n",
    "### Sort the dataframe by the order of checkpoint\n",
    "cps = df_rem.ix[df['Name'] == 'Mitch Seavey', :]['Checkpoint'].values\n",
    "ind = np.arange(len(cps))\n",
    "\n",
    "cps_order = dict(zip(cps, ind))\n",
    "checkpoint_tb['Checkpoint'] = checkpoint_tb.index\n",
    "checkpoint_tb['Order'] = checkpoint_tb['Checkpoint'].map(cps_order)\n",
    "checkpoint_tb = checkpoint_tb.sort_values(['Order'])\n",
    "print(checkpoint_tb.head()) # for checking"
   ]
  },
  {
   "cell_type": "code",
   "execution_count": 213,
   "metadata": {
    "collapsed": false
   },
   "outputs": [
    {
     "data": {
      "application/vnd.plotly.v1+json": {
       "data": [
        {
         "lat": [
          64.8321,
          64.5952,
          65.0317,
          65.20100000000001,
          64.7386,
          64.7322,
          65.6568,
          64.8431,
          64.7188,
          64.3138,
          63.8742,
          64.3519,
          64.9286,
          64.6162,
          64.6798,
          64.4681,
          64.4964
         ],
         "line": {
          "color": "#444444",
          "width": 1.2
         },
         "lon": [
          -147.813,
          -149.0897,
          -150.6352,
          -152.0816,
          -155.5011,
          -156.9352,
          -156.455,
          -157.8039,
          -158.1046,
          -158.7257,
          -160.7863,
          -161.1918,
          -161.168,
          -162.2494,
          -163.4067,
          -164.7519,
          -165.3996
         ],
         "marker": {
          "cmax": 17,
          "cmin": 0,
          "color": [
           1,
           3,
           13,
           12,
           16,
           6,
           15,
           17,
           4,
           2,
           14,
           10,
           5,
           8,
           11,
           7,
           9
          ],
          "colorbar": {},
          "colorscale": [
           [
            0,
            "rgb(255, 200, 180)"
           ],
           [
            1,
            "rgb(255, 0, 0)"
           ]
          ],
          "size": 15
         },
         "mode": "lines+markers",
         "text": [
          "Fairbanks",
          "Nenana",
          "Manley",
          "Tanana",
          "Ruby",
          "Galena",
          "Huslia",
          "Koyukuk",
          "Nulato",
          "Kaltag",
          "Unalakleet",
          "Shaktoolik",
          "Koyuk",
          "Elim",
          "White Mountain",
          "Safety",
          "Nome"
         ],
         "type": "scattermapbox"
        }
       ],
       "layout": {
        "autosize": false,
        "height": 600,
        "hovermode": "closest",
        "mapbox": {
         "accesstoken": "pk.eyJ1IjoieG5pcGVyIiwiYSI6ImNqMDR6cXR0aDBoNm4ycWxzcTF2Z3ZxbGsifQ.dAlvq0ZttViD4l3HRbqeYw",
         "bearing": 0,
         "center": {
          "lat": 64.71050000000001,
          "lon": -157.7705117647059
         },
         "pitch": 0,
         "zoom": 4.5
        },
        "margin": {
         "b": 50,
         "l": 50,
         "pad": 2,
         "r": 10,
         "t": 100
        },
        "showlegend": false,
        "title": "The Distribution of Toughness of Route in the Contest",
        "width": 800
       }
      },
      "text/html": [
       "<div id=\"4e803829-084e-4348-8fba-169dd27b66f7\" style=\"height: 600px; width: 800px;\" class=\"plotly-graph-div\"></div><script type=\"text/javascript\">require([\"plotly\"], function(Plotly) { window.PLOTLYENV=window.PLOTLYENV || {};window.PLOTLYENV.BASE_URL=\"https://plot.ly\";Plotly.newPlot(\"4e803829-084e-4348-8fba-169dd27b66f7\", [{\"lat\": [64.8321, 64.5952, 65.0317, 65.20100000000001, 64.7386, 64.7322, 65.6568, 64.8431, 64.7188, 64.3138, 63.8742, 64.3519, 64.9286, 64.6162, 64.6798, 64.4681, 64.4964], \"text\": [\"Fairbanks\", \"Nenana\", \"Manley\", \"Tanana\", \"Ruby\", \"Galena\", \"Huslia\", \"Koyukuk\", \"Nulato\", \"Kaltag\", \"Unalakleet\", \"Shaktoolik\", \"Koyuk\", \"Elim\", \"White Mountain\", \"Safety\", \"Nome\"], \"marker\": {\"cmax\": 17, \"colorscale\": [[0, \"rgb(255, 200, 180)\"], [1, \"rgb(255, 0, 0)\"]], \"size\": 15, \"color\": [1, 3, 13, 12, 16, 6, 15, 17, 4, 2, 14, 10, 5, 8, 11, 7, 9], \"colorbar\": {}, \"cmin\": 0}, \"mode\": \"lines+markers\", \"type\": \"scattermapbox\", \"line\": {\"width\": 1.2, \"color\": \"#444444\"}, \"lon\": [-147.813, -149.0897, -150.6352, -152.0816, -155.5011, -156.9352, -156.455, -157.8039, -158.1046, -158.7257, -160.7863, -161.1918, -161.168, -162.2494, -163.4067, -164.7519, -165.3996]}], {\"margin\": {\"l\": 50, \"b\": 50, \"r\": 10, \"pad\": 2, \"t\": 100}, \"hovermode\": \"closest\", \"width\": 800, \"height\": 600, \"mapbox\": {\"center\": {\"lat\": 64.71050000000001, \"lon\": -157.7705117647059}, \"zoom\": 4.5, \"bearing\": 0, \"pitch\": 0, \"accesstoken\": \"pk.eyJ1IjoieG5pcGVyIiwiYSI6ImNqMDR6cXR0aDBoNm4ycWxzcTF2Z3ZxbGsifQ.dAlvq0ZttViD4l3HRbqeYw\"}, \"showlegend\": false, \"title\": \"The Distribution of Toughness of Route in the Contest\", \"autosize\": false}, {\"linkText\": \"Export to plot.ly\", \"showLink\": true})});</script>"
      ]
     },
     "metadata": {},
     "output_type": "display_data"
    }
   ],
   "source": [
    "### Visualize\n",
    "mapbox_access_token = 'pk.eyJ1IjoieG5pcGVyIiwiYSI6ImNqMDR6cXR0aDBoNm4ycWxzcTF2Z3ZxbGsifQ.dAlvq0ZttViD4l3HRbqeYw'\n",
    "\n",
    "scl = [[0, 'rgb(255, 200, 180)'], [1, 'rgb(255, 0, 0)']]\n",
    "\n",
    "data = go.Data([    \n",
    "\n",
    "    go.Scattermapbox(\n",
    "        lat=list(checkpoint_tb['Latitude'].values),\n",
    "        lon=list(checkpoint_tb['Longitude'].values),\n",
    "        mode=\"lines+markers\",\n",
    "        marker=go.Marker(\n",
    "            size=15,\n",
    "            color=list(checkpoint_tb['Level'].values),\n",
    "                        colorscale=scl,\n",
    "        cmin=0,\n",
    "        cmax=checkpoint_tb['Level'].values.max(),\n",
    "        colorbar=dict()\n",
    "        ),\n",
    "        line = go.Line(\n",
    "            width=1.2,\n",
    "            color='#444444'\n",
    "            ),\n",
    "        text=list(checkpoint_tb.index),\n",
    "    ),])\n",
    "\n",
    "layout = go.Layout(\n",
    "    showlegend=False,\n",
    "    autosize=False,\n",
    "    width=800,\n",
    "    height=600,\n",
    "    title='The Distribution of Toughness of Route in the Contest',\n",
    "    hovermode='closest',\n",
    "    margin=go.Margin(\n",
    "        l=50,\n",
    "        r=10,\n",
    "        b=50,\n",
    "        t=100,\n",
    "        pad=2\n",
    "    ),\n",
    "    mapbox=dict(\n",
    "        accesstoken=mapbox_access_token,\n",
    "        bearing=0,\n",
    "        center=dict(\n",
    "            lat=np.mean(checkpoint_tb['Latitude']),\n",
    "            lon=np.mean(checkpoint_tb['Longitude'])\n",
    "        ),\n",
    "        pitch=0,\n",
    "        zoom=4.5\n",
    "    ),\n",
    ")\n",
    "\n",
    "fig = dict(data=data, layout=layout)\n",
    "py.offline.iplot(fig)"
   ]
  },
  {
   "cell_type": "code",
   "execution_count": null,
   "metadata": {
    "collapsed": true
   },
   "outputs": [],
   "source": []
  },
  {
   "cell_type": "code",
   "execution_count": null,
   "metadata": {
    "collapsed": true
   },
   "outputs": [],
   "source": []
  },
  {
   "cell_type": "code",
   "execution_count": null,
   "metadata": {
    "collapsed": true
   },
   "outputs": [],
   "source": []
  }
 ],
 "metadata": {
  "anaconda-cloud": {},
  "kernelspec": {
   "display_name": "Python 3",
   "language": "python",
   "name": "python3"
  },
  "language_info": {
   "codemirror_mode": {
    "name": "ipython",
    "version": 3
   },
   "file_extension": ".py",
   "mimetype": "text/x-python",
   "name": "python",
   "nbconvert_exporter": "python",
   "pygments_lexer": "ipython3",
   "version": "3.5.2"
  }
 },
 "nbformat": 4,
 "nbformat_minor": 2
}
