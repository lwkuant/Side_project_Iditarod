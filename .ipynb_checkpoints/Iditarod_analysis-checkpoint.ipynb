{
 "cells": [
  {
   "cell_type": "markdown",
   "metadata": {},
   "source": [
    "## Introduction "
   ]
  },
  {
   "cell_type": "markdown",
   "metadata": {},
   "source": [
    "The official site of this contest: http://iditarod.com/"
   ]
  },
  {
   "cell_type": "markdown",
   "metadata": {
    "collapsed": true
   },
   "source": [
    "The Goal of this analysis is to do conduct some explorations and visualizations to get insights from this dataset. Since this dataset contains location-based and behavioral data, I think it would be very worth analyzing!"
   ]
  },
  {
   "cell_type": "markdown",
   "metadata": {},
   "source": [
    "## Setup"
   ]
  },
  {
   "cell_type": "code",
   "execution_count": 1,
   "metadata": {
    "collapsed": false
   },
   "outputs": [
    {
     "data": {
      "text/html": [
       "<script>requirejs.config({paths: { 'plotly': ['https://cdn.plot.ly/plotly-latest.min']},});if(!window.Plotly) {{require(['plotly'],function(plotly) {window.Plotly=plotly;});}}</script>"
      ],
      "text/plain": [
       "<IPython.core.display.HTML object>"
      ]
     },
     "metadata": {},
     "output_type": "display_data"
    }
   ],
   "source": [
    "### Load required packages\n",
    "import numpy as np \n",
    "import pandas as pd \n",
    "import scipy as sp\n",
    "import matplotlib.pyplot as plt \n",
    "%matplotlib inline \n",
    "import seaborn as sns\n",
    "\n",
    "import plotly as py\n",
    "import plotly.graph_objs as go\n",
    "py.offline.init_notebook_mode(connected=True) # run at the start of every ipython notebook so that we can work offline\n",
    "import warnings\n",
    "warnings.filterwarnings('ignore')"
   ]
  },
  {
   "cell_type": "code",
   "execution_count": 2,
   "metadata": {
    "collapsed": false
   },
   "outputs": [
    {
     "name": "stdout",
     "output_type": "stream",
     "text": [
      "Shape:\n",
      "(1146, 17)\n",
      "\n",
      "Information:\n",
      "<class 'pandas.core.frame.DataFrame'>\n",
      "RangeIndex: 1146 entries, 0 to 1145\n",
      "Data columns (total 17 columns):\n",
      "Number            1146 non-null int64\n",
      "Name              1146 non-null object\n",
      "Status            1146 non-null object\n",
      "Country           1146 non-null object\n",
      "Checkpoint        1146 non-null object\n",
      "Latitude          1146 non-null float64\n",
      "Longitude         1146 non-null float64\n",
      "Distance          1074 non-null float64\n",
      "Time              1146 non-null float64\n",
      "Speed             1074 non-null float64\n",
      "Arrival Date      1074 non-null object\n",
      "Arrival Time      1074 non-null object\n",
      "Arrival Dogs      1074 non-null float64\n",
      "Elapsed Time      1145 non-null float64\n",
      "Departure Date    1074 non-null object\n",
      "Departure Time    1074 non-null object\n",
      "Departure Dogs    1074 non-null float64\n",
      "dtypes: float64(8), int64(1), object(8)\n",
      "memory usage: 152.3+ KB\n",
      "None\n",
      "\n",
      "Some examples:\n",
      "   Number             Name   Status         Country Checkpoint  Latitude  \\\n",
      "0       2   Ryan Redington  Veteran   United States  Fairbanks   64.8321   \n",
      "1       3      Otto Balogh   Rookie         Hungary  Fairbanks   64.8321   \n",
      "2       4     Misha Wiljes   Rookie  Czech Republic  Fairbanks   64.8321   \n",
      "3       5     Cody Strathe  Veteran   United States  Fairbanks   64.8321   \n",
      "4       6  Linwood Fiedler  Veteran   United States  Fairbanks   64.8321   \n",
      "\n",
      "   Longitude  Distance  Time  Speed Arrival Date Arrival Time  Arrival Dogs  \\\n",
      "0   -147.813       NaN   0.0    NaN          NaN          NaN           NaN   \n",
      "1   -147.813       NaN   0.0    NaN          NaN          NaN           NaN   \n",
      "2   -147.813       NaN   0.0    NaN          NaN          NaN           NaN   \n",
      "3   -147.813       NaN   0.0    NaN          NaN          NaN           NaN   \n",
      "4   -147.813       NaN   0.0    NaN          NaN          NaN           NaN   \n",
      "\n",
      "   Elapsed Time Departure Date Departure Time  Departure Dogs  \n",
      "0           0.0     03/06/2017       11:00:00            16.0  \n",
      "1           NaN            NaN            NaN             NaN  \n",
      "2           0.0     03/06/2017       11:04:00            15.0  \n",
      "3           0.0     03/06/2017       11:06:00            16.0  \n",
      "4           0.0     03/06/2017       11:08:00            16.0  \n"
     ]
    }
   ],
   "source": [
    "### load the dataset \n",
    "df = pd.read_csv('D:/Dataset/Side_project_Iditarod/report.csv', encoding='utf-8')\n",
    "\n",
    "print('Shape:')\n",
    "print(df.shape)\n",
    "\n",
    "print('\\nInformation:')\n",
    "print(df.info())\n",
    "\n",
    "print('\\nSome examples:')\n",
    "print(df.head())"
   ]
  },
  {
   "cell_type": "markdown",
   "metadata": {},
   "source": [
    "It looks like that most of the NAs follow certain rules, for example, at the starting checkpoint, we wouldn't have data on arrival-related features. However, in the column \"Elapsed Time\", there is only one NA, let's check it out."
   ]
  },
  {
   "cell_type": "code",
   "execution_count": 3,
   "metadata": {
    "collapsed": false
   },
   "outputs": [
    {
     "name": "stdout",
     "output_type": "stream",
     "text": [
      "Print out the contestant:\n",
      "   Number         Name  Status  Country Checkpoint  Latitude  Longitude  \\\n",
      "1       3  Otto Balogh  Rookie  Hungary  Fairbanks   64.8321   -147.813   \n",
      "\n",
      "   Distance  Time  Speed Arrival Date Arrival Time  Arrival Dogs  \\\n",
      "1       NaN   0.0    NaN          NaN          NaN           NaN   \n",
      "\n",
      "   Elapsed Time Departure Date Departure Time  Departure Dogs  \n",
      "1           NaN            NaN            NaN             NaN  \n",
      "\n",
      "Count of this contestant:\n",
      "1\n",
      "\n",
      "Check the count of other contestants:\n",
      "Otto Balogh         1\n",
      "Mark May            4\n",
      "Mark Selland        5\n",
      "Ryan Anderson       6\n",
      "Ellen Halverson     8\n",
      "Dave Branholm      10\n",
      "Monica Zappa       12\n",
      "Roger Lee          12\n",
      "Peter Reuter       17\n",
      "Hugh Neff          17\n",
      "Name: Name, dtype: int64\n"
     ]
    }
   ],
   "source": [
    "### Check the NAs\n",
    "print('Print out the contestant:')\n",
    "print(df.ix[df['Elapsed Time'].isnull(), :])\n",
    "\n",
    "print('\\nCount of this contestant:')\n",
    "print(np.sum(df['Name'] == 'Otto Balogh'))\n",
    "\n",
    "print('\\nCheck the count of other contestants:')\n",
    "print(df['Name'].value_counts().sort_values(ascending=True).head(10))"
   ]
  },
  {
   "cell_type": "markdown",
   "metadata": {},
   "source": [
    "From the table above, we can find that the contestant Otto Balogh only has one data on the starting checkpoint, which may mean he have to stop participating the competition due to some reasons, I decide to remove this data from the dataset."
   ]
  },
  {
   "cell_type": "code",
   "execution_count": 4,
   "metadata": {
    "collapsed": false
   },
   "outputs": [
    {
     "name": "stdout",
     "output_type": "stream",
     "text": [
      "<class 'pandas.core.frame.DataFrame'>\n",
      "Int64Index: 1145 entries, 0 to 1145\n",
      "Data columns (total 17 columns):\n",
      "Number            1145 non-null int64\n",
      "Name              1145 non-null object\n",
      "Status            1145 non-null object\n",
      "Country           1145 non-null object\n",
      "Checkpoint        1145 non-null object\n",
      "Latitude          1145 non-null float64\n",
      "Longitude         1145 non-null float64\n",
      "Distance          1074 non-null float64\n",
      "Time              1145 non-null float64\n",
      "Speed             1074 non-null float64\n",
      "Arrival Date      1074 non-null object\n",
      "Arrival Time      1074 non-null object\n",
      "Arrival Dogs      1074 non-null float64\n",
      "Elapsed Time      1145 non-null float64\n",
      "Departure Date    1074 non-null object\n",
      "Departure Time    1074 non-null object\n",
      "Departure Dogs    1074 non-null float64\n",
      "dtypes: float64(8), int64(1), object(8)\n",
      "memory usage: 161.0+ KB\n",
      "None\n"
     ]
    }
   ],
   "source": [
    "### Remove the contestant who cannot participate in the competition\n",
    "df_rem = df.ix[~df['Elapsed Time'].isnull(), :]\n",
    "print(df_rem.info()) # for checking"
   ]
  },
  {
   "cell_type": "markdown",
   "metadata": {},
   "source": [
    "## EDA"
   ]
  },
  {
   "cell_type": "markdown",
   "metadata": {},
   "source": [
    "#### How many contestants are there for each country"
   ]
  },
  {
   "cell_type": "code",
   "execution_count": 5,
   "metadata": {
    "collapsed": false
   },
   "outputs": [
    {
     "name": "stdout",
     "output_type": "stream",
     "text": [
      "Number of unique contestants (excluding one that has been removed):\n",
      "71\n",
      "\n",
      "Distributioin of contestants by country:\n",
      "Country\n",
      "United States     60\n",
      "Norway             4\n",
      "France             2\n",
      "Canada             2\n",
      "Sweden             1\n",
      "England            1\n",
      "Czech Republic     1\n",
      "Name: Name, dtype: int64\n"
     ]
    }
   ],
   "source": [
    "### Count of unique contestants\n",
    "print('Number of unique contestants (excluding one that has been removed):')\n",
    "print(len(df_rem['Name'].value_counts()))\n",
    "\n",
    "### Group by the country\n",
    "con_country = df_rem['Name'].groupby(df_rem['Country'])\n",
    "print('\\nDistributioin of contestants by country:')\n",
    "print(con_country.nunique().sort_values(ascending=False))"
   ]
  },
  {
   "cell_type": "code",
   "execution_count": 6,
   "metadata": {
    "collapsed": false,
    "scrolled": false
   },
   "outputs": [
    {
     "data": {
      "application/vnd.plotly.v1+json": {
       "data": [
        {
         "marker": {
          "color": "#FF3333"
         },
         "type": "bar",
         "x": [
          "United States",
          "Norway",
          "France",
          "Canada",
          "Sweden",
          "England",
          "Czech Republic"
         ],
         "y": [
          60,
          4,
          2,
          2,
          1,
          1,
          1
         ]
        }
       ],
       "layout": {
        "title": "Count of Contestants by Country"
       }
      },
      "text/html": [
       "<div id=\"dc97df72-84f5-44ff-afe5-9b11cc8a52ba\" style=\"height: 525px; width: 100%;\" class=\"plotly-graph-div\"></div><script type=\"text/javascript\">require([\"plotly\"], function(Plotly) { window.PLOTLYENV=window.PLOTLYENV || {};window.PLOTLYENV.BASE_URL=\"https://plot.ly\";Plotly.newPlot(\"dc97df72-84f5-44ff-afe5-9b11cc8a52ba\", [{\"y\": [60, 4, 2, 2, 1, 1, 1], \"type\": \"bar\", \"x\": [\"United States\", \"Norway\", \"France\", \"Canada\", \"Sweden\", \"England\", \"Czech Republic\"], \"marker\": {\"color\": \"#FF3333\"}}], {\"title\": \"Count of Contestants by Country\"}, {\"showLink\": true, \"linkText\": \"Export to plot.ly\"})});</script>"
      ]
     },
     "metadata": {},
     "output_type": "display_data"
    }
   ],
   "source": [
    "### Visualize\n",
    "\n",
    "tb = con_country.nunique().sort_values(ascending=False)\n",
    "\n",
    "trace = go.Bar(\n",
    "    x = list(tb.index),\n",
    "    y = list(tb.values),\n",
    "    marker = dict(\n",
    "    color = '#FF3333'))\n",
    "\n",
    "layout = go.Layout(\n",
    "    title = 'Count of Contestants by Country')\n",
    "\n",
    "data = [trace]\n",
    "\n",
    "fig = go.Figure(data=data, layout=layout)\n",
    "py.offline.iplot(fig)"
   ]
  },
  {
   "cell_type": "markdown",
   "metadata": {},
   "source": [
    "From the graph above, we can find that most of the participants are from the USA."
   ]
  },
  {
   "cell_type": "markdown",
   "metadata": {},
   "source": [
    "#### How many contestants are veterans and rookies?"
   ]
  },
  {
   "cell_type": "code",
   "execution_count": 7,
   "metadata": {
    "collapsed": false
   },
   "outputs": [
    {
     "name": "stdout",
     "output_type": "stream",
     "text": [
      "Veteran    889\n",
      "Rookie     256\n",
      "Name: Status, dtype: int64\n",
      "\n",
      "True distribution of status:\n",
      "Veteran    55\n",
      "Rookie     16\n",
      "Name: Status, dtype: int64\n"
     ]
    }
   ],
   "source": [
    "### check the classes of status \n",
    "print(df_rem['Status'].value_counts()) \n",
    "\n",
    "### drop the duplicate data to calculate the true number for both classes\n",
    "ind_con = df_rem.drop_duplicates(['Name'])[['Name', 'Status']].set_index('Name')\n",
    "tb = ind_con['Status'].value_counts().sort_values(ascending=False)\n",
    "print('\\nTrue distribution of status:')\n",
    "print(tb)"
   ]
  },
  {
   "cell_type": "code",
   "execution_count": 8,
   "metadata": {
    "collapsed": false
   },
   "outputs": [
    {
     "data": {
      "application/vnd.plotly.v1+json": {
       "data": [
        {
         "marker": {
          "color": "#FF3333"
         },
         "type": "bar",
         "width": 0.3,
         "x": [
          "Veteran",
          "Rookie"
         ],
         "y": [
          55,
          16
         ]
        }
       ],
       "layout": {
        "title": "Count of Status"
       }
      },
      "text/html": [
       "<div id=\"aff290bf-6add-4a23-b890-8e6747d5f746\" style=\"height: 525px; width: 100%;\" class=\"plotly-graph-div\"></div><script type=\"text/javascript\">require([\"plotly\"], function(Plotly) { window.PLOTLYENV=window.PLOTLYENV || {};window.PLOTLYENV.BASE_URL=\"https://plot.ly\";Plotly.newPlot(\"aff290bf-6add-4a23-b890-8e6747d5f746\", [{\"y\": [55, 16], \"type\": \"bar\", \"marker\": {\"color\": \"#FF3333\"}, \"x\": [\"Veteran\", \"Rookie\"], \"width\": 0.3}], {\"title\": \"Count of Status\"}, {\"showLink\": true, \"linkText\": \"Export to plot.ly\"})});</script>"
      ]
     },
     "metadata": {},
     "output_type": "display_data"
    }
   ],
   "source": [
    "### Visualize \n",
    "\n",
    "trace = go.Bar(\n",
    "    x = list(tb.index),\n",
    "    y = list(tb.values),\n",
    "    width=0.3,\n",
    "    marker = dict(\n",
    "    color = '#FF3333'))\n",
    "\n",
    "layout = go.Layout(\n",
    "    title = 'Count of Status')\n",
    "\n",
    "data = [trace]\n",
    "\n",
    "fig = go.Figure(data=data, layout=layout)\n",
    "py.offline.iplot(fig)"
   ]
  },
  {
   "cell_type": "markdown",
   "metadata": {
    "collapsed": false
   },
   "source": [
    "From the graph above, we can find that most of the participants are veterans, this may result from the fact that this contest requires high level of skills to finish the race."
   ]
  },
  {
   "cell_type": "markdown",
   "metadata": {},
   "source": [
    "#### The toughest route"
   ]
  },
  {
   "cell_type": "code",
   "execution_count": 9,
   "metadata": {
    "collapsed": false
   },
   "outputs": [
    {
     "name": "stdout",
     "output_type": "stream",
     "text": [
      "            Latitude  Longitude      Speed\n",
      "Checkpoint                                \n",
      "Elim         64.6162  -162.2494   7.937344\n",
      "Fairbanks    64.8321  -147.8130        NaN\n",
      "Galena       64.7322  -156.9352   8.207246\n",
      "Huslia       65.6568  -156.4550   5.959706\n",
      "Kaltag       64.3138  -158.7257  11.056418\n"
     ]
    }
   ],
   "source": [
    "### Create the table \n",
    "group_checkpoint = df_rem.groupby(['Checkpoint'])\n",
    "\n",
    "checkpoint_tb = df_rem.drop_duplicates(['Checkpoint'])[['Checkpoint', 'Latitude', 'Longitude']].set_index('Checkpoint')\n",
    "checkpoint_tb = pd.merge(\n",
    "    checkpoint_tb,\n",
    "    pd.DataFrame(group_checkpoint['Speed'].mean()),\n",
    "    right_index = True,\n",
    "    left_index = True\n",
    ")\n",
    "\n",
    "print(checkpoint_tb.head()) # for checking"
   ]
  },
  {
   "cell_type": "code",
   "execution_count": 10,
   "metadata": {
    "collapsed": false
   },
   "outputs": [
    {
     "name": "stdout",
     "output_type": "stream",
     "text": [
      "            Latitude  Longitude       Speed  Level Checkpoint  Order\n",
      "Checkpoint                                                          \n",
      "Fairbanks    64.8321  -147.8130  100.000000      1  Fairbanks      0\n",
      "Nenana       64.5952  -149.0897    9.833380      3     Nenana      1\n",
      "Manley       65.0317  -150.6352    6.238169     13     Manley      2\n",
      "Tanana       65.2010  -152.0816    6.499296     12     Tanana      3\n",
      "Ruby         64.7386  -155.5011    5.350286     16       Ruby      4\n"
     ]
    }
   ],
   "source": [
    "### Get the level of toughness (measured by the average speed)\n",
    "checkpoint_tb.fillna(100, inplace=True)\n",
    "\n",
    "### rank the toughness\n",
    "checkpoint_tb['Level'] = checkpoint_tb['Speed'].rank(ascending=False)\n",
    "checkpoint_tb['Level'] = checkpoint_tb['Level'].astype(int)\n",
    "\n",
    "### Sort the dataframe by the order of checkpoint\n",
    "cps = df_rem.ix[df['Name'] == 'Mitch Seavey', :]['Checkpoint'].values\n",
    "ind = np.arange(len(cps))\n",
    "\n",
    "cps_order = dict(zip(cps, ind))\n",
    "checkpoint_tb['Checkpoint'] = checkpoint_tb.index\n",
    "checkpoint_tb['Order'] = checkpoint_tb['Checkpoint'].map(cps_order)\n",
    "checkpoint_tb = checkpoint_tb.sort_values(['Order'])\n",
    "print(checkpoint_tb.head()) # for checking"
   ]
  },
  {
   "cell_type": "code",
   "execution_count": 11,
   "metadata": {
    "collapsed": false
   },
   "outputs": [
    {
     "data": {
      "application/vnd.plotly.v1+json": {
       "data": [
        {
         "lat": [
          64.8321,
          64.5952,
          65.0317,
          65.20100000000001,
          64.7386,
          64.7322,
          65.6568,
          64.8431,
          64.7188,
          64.3138,
          63.8742,
          64.3519,
          64.9286,
          64.6162,
          64.6798,
          64.4681,
          64.4964
         ],
         "line": {
          "color": "#444444",
          "width": 1.2
         },
         "lon": [
          -147.813,
          -149.0897,
          -150.6352,
          -152.0816,
          -155.5011,
          -156.9352,
          -156.455,
          -157.8039,
          -158.1046,
          -158.7257,
          -160.7863,
          -161.1918,
          -161.168,
          -162.2494,
          -163.4067,
          -164.7519,
          -165.3996
         ],
         "marker": {
          "cmax": 17,
          "cmin": 0,
          "color": [
           1,
           3,
           13,
           12,
           16,
           6,
           15,
           17,
           4,
           2,
           14,
           10,
           5,
           8,
           11,
           7,
           9
          ],
          "colorbar": {},
          "colorscale": [
           [
            0,
            "rgb(255, 200, 180)"
           ],
           [
            1,
            "rgb(255, 0, 0)"
           ]
          ],
          "size": 15
         },
         "mode": "lines+markers",
         "text": [
          "Fairbanks",
          "Nenana",
          "Manley",
          "Tanana",
          "Ruby",
          "Galena",
          "Huslia",
          "Koyukuk",
          "Nulato",
          "Kaltag",
          "Unalakleet",
          "Shaktoolik",
          "Koyuk",
          "Elim",
          "White Mountain",
          "Safety",
          "Nome"
         ],
         "type": "scattermapbox"
        }
       ],
       "layout": {
        "autosize": false,
        "height": 600,
        "hovermode": "closest",
        "mapbox": {
         "accesstoken": "pk.eyJ1IjoieG5pcGVyIiwiYSI6ImNqMDR6cXR0aDBoNm4ycWxzcTF2Z3ZxbGsifQ.dAlvq0ZttViD4l3HRbqeYw",
         "bearing": 0,
         "center": {
          "lat": 64.71050000000001,
          "lon": -157.7705117647059
         },
         "pitch": 0,
         "zoom": 4.5
        },
        "margin": {
         "b": 50,
         "l": 50,
         "pad": 2,
         "r": 10,
         "t": 100
        },
        "showlegend": false,
        "title": "The Distribution of Toughness of Route in the Contest",
        "width": 800
       }
      },
      "text/html": [
       "<div id=\"683d3543-c0e1-4970-8f38-ded815c658c8\" style=\"height: 600px; width: 800px;\" class=\"plotly-graph-div\"></div><script type=\"text/javascript\">require([\"plotly\"], function(Plotly) { window.PLOTLYENV=window.PLOTLYENV || {};window.PLOTLYENV.BASE_URL=\"https://plot.ly\";Plotly.newPlot(\"683d3543-c0e1-4970-8f38-ded815c658c8\", [{\"line\": {\"color\": \"#444444\", \"width\": 1.2}, \"lon\": [-147.813, -149.0897, -150.6352, -152.0816, -155.5011, -156.9352, -156.455, -157.8039, -158.1046, -158.7257, -160.7863, -161.1918, -161.168, -162.2494, -163.4067, -164.7519, -165.3996], \"text\": [\"Fairbanks\", \"Nenana\", \"Manley\", \"Tanana\", \"Ruby\", \"Galena\", \"Huslia\", \"Koyukuk\", \"Nulato\", \"Kaltag\", \"Unalakleet\", \"Shaktoolik\", \"Koyuk\", \"Elim\", \"White Mountain\", \"Safety\", \"Nome\"], \"type\": \"scattermapbox\", \"marker\": {\"colorbar\": {}, \"cmin\": 0, \"size\": 15, \"color\": [1, 3, 13, 12, 16, 6, 15, 17, 4, 2, 14, 10, 5, 8, 11, 7, 9], \"colorscale\": [[0, \"rgb(255, 200, 180)\"], [1, \"rgb(255, 0, 0)\"]], \"cmax\": 17}, \"mode\": \"lines+markers\", \"lat\": [64.8321, 64.5952, 65.0317, 65.20100000000001, 64.7386, 64.7322, 65.6568, 64.8431, 64.7188, 64.3138, 63.8742, 64.3519, 64.9286, 64.6162, 64.6798, 64.4681, 64.4964]}], {\"margin\": {\"pad\": 2, \"b\": 50, \"r\": 10, \"t\": 100, \"l\": 50}, \"showlegend\": false, \"autosize\": false, \"height\": 600, \"title\": \"The Distribution of Toughness of Route in the Contest\", \"width\": 800, \"hovermode\": \"closest\", \"mapbox\": {\"zoom\": 4.5, \"pitch\": 0, \"center\": {\"lat\": 64.71050000000001, \"lon\": -157.7705117647059}, \"accesstoken\": \"pk.eyJ1IjoieG5pcGVyIiwiYSI6ImNqMDR6cXR0aDBoNm4ycWxzcTF2Z3ZxbGsifQ.dAlvq0ZttViD4l3HRbqeYw\", \"bearing\": 0}}, {\"showLink\": true, \"linkText\": \"Export to plot.ly\"})});</script>"
      ]
     },
     "metadata": {},
     "output_type": "display_data"
    }
   ],
   "source": [
    "### Visualize\n",
    "mapbox_access_token = 'pk.eyJ1IjoieG5pcGVyIiwiYSI6ImNqMDR6cXR0aDBoNm4ycWxzcTF2Z3ZxbGsifQ.dAlvq0ZttViD4l3HRbqeYw'\n",
    "\n",
    "scl = [[0, 'rgb(255, 200, 180)'], [1, 'rgb(255, 0, 0)']]\n",
    "\n",
    "data = go.Data([    \n",
    "\n",
    "    go.Scattermapbox(\n",
    "        lat=list(checkpoint_tb['Latitude'].values),\n",
    "        lon=list(checkpoint_tb['Longitude'].values),\n",
    "        mode=\"lines+markers\",\n",
    "        marker=go.Marker(\n",
    "            size=15,\n",
    "            color=list(checkpoint_tb['Level'].values),\n",
    "                        colorscale=scl,\n",
    "        cmin=0,\n",
    "        cmax=checkpoint_tb['Level'].values.max(),\n",
    "        colorbar=dict()\n",
    "        ),\n",
    "        line = go.Line(\n",
    "            width=1.2,\n",
    "            color='#444444'\n",
    "            ),\n",
    "        text=list(checkpoint_tb.index),\n",
    "    ),])\n",
    "\n",
    "layout = go.Layout(\n",
    "    showlegend=False,\n",
    "    autosize=False,\n",
    "    width=800,\n",
    "    height=600,\n",
    "    title='The Distribution of Toughness of Route in the Contest',\n",
    "    hovermode='closest',\n",
    "    margin=go.Margin(\n",
    "        l=50,\n",
    "        r=10,\n",
    "        b=50,\n",
    "        t=100,\n",
    "        pad=2\n",
    "    ),\n",
    "    mapbox=dict(\n",
    "        accesstoken=mapbox_access_token,\n",
    "        bearing=0,\n",
    "        center=dict(\n",
    "            lat=np.mean(checkpoint_tb['Latitude']),\n",
    "            lon=np.mean(checkpoint_tb['Longitude'])\n",
    "        ),\n",
    "        pitch=0,\n",
    "        zoom=4.5\n",
    "    ),\n",
    ")\n",
    "\n",
    "fig = dict(data=data, layout=layout)\n",
    "py.offline.iplot(fig, validate=False)"
   ]
  },
  {
   "cell_type": "markdown",
   "metadata": {
    "collapsed": true
   },
   "source": [
    "From the interactive plot above, we can find:<br>\n",
    "<br>1. Many top tough routes are centered around the middle part of the race. And one section of the toughest routes requires the participants to go northern and then back to the main direction, which makes the race even more challenging.<br>\n",
    "<br>2. The route is mainly from the east to the west."
   ]
  },
  {
   "cell_type": "markdown",
   "metadata": {
    "collapsed": true
   },
   "source": [
    "#### Learn from the winners! What makes winners stand out?"
   ]
  },
  {
   "cell_type": "code",
   "execution_count": 12,
   "metadata": {
    "collapsed": false
   },
   "outputs": [],
   "source": [
    "### Determine the ranks of winners \n",
    "\n",
    "## create a column for the complete date_time\n",
    "from datetime import datetime\n",
    "df_rem['Arrival Date'].fillna('03/06/2017', inplace=True)\n",
    "df_rem['Arrival Time'].fillna('11:00:00', inplace=True)\n",
    "df_rem['Arrival_datetime'] = df_rem.ix[:, ['Arrival Date', 'Arrival Time']].apply(lambda x: datetime.strptime(x[0]+'/'+x[1],\n",
    "                                                                                                             '%m/%d/%Y/%H:%M:%S'),\n",
    "                                                                                                             axis=1)\n",
    "## The people who complete the race and ranks\n",
    "# get the names\n",
    "names = np.array(df_rem['Name'].value_counts().index)[df_rem['Name'].value_counts().values>=17]\n",
    "\n",
    "df_com = df_rem.ix[df_rem['Name'].isin(names), :]\n",
    "\n",
    "# rank the winners\n",
    "name_group = df_com.groupby(['Name'])\n",
    "rank_tb = pd.DataFrame(name_group['Arrival_datetime'].max().sort_values())\n",
    "rank_tb['Rank'] = np.array(range(len(rank_tb)))+1"
   ]
  },
  {
   "cell_type": "code",
   "execution_count": 13,
   "metadata": {
    "collapsed": false
   },
   "outputs": [
    {
     "name": "stdout",
     "output_type": "stream",
     "text": [
      "The top 3 winners and the last 3 losers: (ordered by the ranks)\n",
      "['Mitch Seavey', 'Dallas Seavey', 'Nicolas Petit', 'Alan Eischens', 'Peter Reuter', 'Cindy Abbott']\n"
     ]
    }
   ],
   "source": [
    "### Get the number of dogs used when departure for winners and losers\n",
    "\n",
    "## get the names for winners and losers\n",
    "win_los_names = list(rank_tb.index)[:3]\n",
    "win_los_names.extend(list(rank_tb.index)[-3:])\n",
    "\n",
    "win_los_dogs = []\n",
    "for name in win_los_names:\n",
    "    win_los_dogs.append(list(df_com['Departure Dogs'][df_com['Name'] == name])[:-1])\n",
    "\n",
    "print('The top 3 winners and the last 3 losers: (ordered by the ranks)')\n",
    "print(win_los_names)"
   ]
  },
  {
   "cell_type": "code",
   "execution_count": 14,
   "metadata": {
    "collapsed": false
   },
   "outputs": [],
   "source": [
    "### Get the names of the names of departure checkpoint\n",
    "checkpoints = list(checkpoint_tb.index)[:-1]"
   ]
  },
  {
   "cell_type": "code",
   "execution_count": 15,
   "metadata": {
    "collapsed": false
   },
   "outputs": [
    {
     "data": {
      "text/plain": [
       "\"\\nwin_los_dogs_df = pd.DataFrame(columns = win_los_names, index = checkpoints)\\nfor ind, name in enumerate(win_los_names):\\n    win_los_dogs_df[name] = win_los_dogs[ind]\\n\\naxes = win_los_dogs_df.plot(alpha=0.8, figsize=[20, 10], fontsize=15, linewidth=2)\\naxes.set_ylim([5, 20])\\naxes.set_title('Number of Dogs Used by Winners and Losers', fontsize=20)\\naxes.legend(loc='center left', bbox_to_anchor=(1.0, 0.5), fontsize=15)\\n\""
      ]
     },
     "execution_count": 15,
     "metadata": {},
     "output_type": "execute_result"
    }
   ],
   "source": [
    "### Visualize \n",
    "\"\"\"\n",
    "win_los_dogs_df = pd.DataFrame(columns = win_los_names, index = checkpoints)\n",
    "for ind, name in enumerate(win_los_names):\n",
    "    win_los_dogs_df[name] = win_los_dogs[ind]\n",
    "\n",
    "axes = win_los_dogs_df.plot(alpha=0.8, figsize=[20, 10], fontsize=15, linewidth=2)\n",
    "axes.set_ylim([5, 20])\n",
    "axes.set_title('Number of Dogs Used by Winners and Losers', fontsize=20)\n",
    "axes.legend(loc='center left', bbox_to_anchor=(1.0, 0.5), fontsize=15)\n",
    "\"\"\""
   ]
  },
  {
   "cell_type": "code",
   "execution_count": 16,
   "metadata": {
    "collapsed": false
   },
   "outputs": [
    {
     "data": {
      "application/vnd.plotly.v1+json": {
       "data": [
        {
         "line": {
          "color": "#006400"
         },
         "mode": "lines",
         "name": "Mitch Seavey",
         "type": "scatter",
         "x": "Fairbanks",
         "y": [
          16,
          16,
          16,
          16,
          16,
          16,
          13,
          13,
          13,
          12,
          12,
          12,
          12,
          12,
          11,
          11
         ]
        },
        {
         "line": {
          "color": "\t#41A541"
         },
         "mode": "lines",
         "name": "Dallas Seavey",
         "type": "scatter",
         "x": "Nenana",
         "y": [
          16,
          16,
          16,
          16,
          14,
          14,
          13,
          13,
          13,
          12,
          12,
          12,
          11,
          10,
          8,
          7
         ]
        },
        {
         "line": {
          "color": "#6DD66D"
         },
         "mode": "lines",
         "name": "Nicolas Petit",
         "type": "scatter",
         "x": "Manley",
         "y": [
          16,
          16,
          16,
          16,
          16,
          16,
          16,
          15,
          15,
          15,
          13,
          13,
          13,
          13,
          13,
          13
         ]
        },
        {
         "line": {
          "color": "#B90000"
         },
         "mode": "lines",
         "name": "Alan Eischens",
         "type": "scatter",
         "x": "Tanana",
         "y": [
          16,
          16,
          16,
          16,
          16,
          16,
          16,
          16,
          16,
          16,
          16,
          16,
          16,
          16,
          16,
          16
         ]
        },
        {
         "line": {
          "color": "#B94646"
         },
         "mode": "lines",
         "name": "Peter Reuter",
         "type": "scatter",
         "x": "Ruby",
         "y": [
          16,
          16,
          15,
          14,
          14,
          14,
          11,
          11,
          10,
          9,
          9,
          9,
          9,
          9,
          9,
          9
         ]
        },
        {
         "line": {
          "color": "#FF8C8C"
         },
         "mode": "lines",
         "name": "Cindy Abbott",
         "type": "scatter",
         "x": "Galena",
         "y": [
          16,
          16,
          16,
          15,
          15,
          13,
          13,
          13,
          13,
          13,
          13,
          13,
          13,
          13,
          12,
          12
         ]
        }
       ],
       "layout": {
        "title": "Number of Dogs Used by Winners and Losers"
       }
      },
      "text/html": [
       "<div id=\"85bf4754-c722-46cc-b0a5-0076c8c52039\" style=\"height: 525px; width: 100%;\" class=\"plotly-graph-div\"></div><script type=\"text/javascript\">require([\"plotly\"], function(Plotly) { window.PLOTLYENV=window.PLOTLYENV || {};window.PLOTLYENV.BASE_URL=\"https://plot.ly\";Plotly.newPlot(\"85bf4754-c722-46cc-b0a5-0076c8c52039\", [{\"y\": [16.0, 16.0, 16.0, 16.0, 16.0, 16.0, 13.0, 13.0, 13.0, 12.0, 12.0, 12.0, 12.0, 12.0, 11.0, 11.0], \"line\": {\"color\": \"#006400\"}, \"name\": \"Mitch Seavey\", \"x\": \"Fairbanks\", \"type\": \"scatter\", \"mode\": \"lines\"}, {\"y\": [16.0, 16.0, 16.0, 16.0, 14.0, 14.0, 13.0, 13.0, 13.0, 12.0, 12.0, 12.0, 11.0, 10.0, 8.0, 7.0], \"line\": {\"color\": \"\\t#41A541\"}, \"name\": \"Dallas Seavey\", \"x\": \"Nenana\", \"type\": \"scatter\", \"mode\": \"lines\"}, {\"y\": [16.0, 16.0, 16.0, 16.0, 16.0, 16.0, 16.0, 15.0, 15.0, 15.0, 13.0, 13.0, 13.0, 13.0, 13.0, 13.0], \"line\": {\"color\": \"#6DD66D\"}, \"name\": \"Nicolas Petit\", \"x\": \"Manley\", \"type\": \"scatter\", \"mode\": \"lines\"}, {\"y\": [16.0, 16.0, 16.0, 16.0, 16.0, 16.0, 16.0, 16.0, 16.0, 16.0, 16.0, 16.0, 16.0, 16.0, 16.0, 16.0], \"line\": {\"color\": \"#B90000\"}, \"name\": \"Alan Eischens\", \"x\": \"Tanana\", \"type\": \"scatter\", \"mode\": \"lines\"}, {\"y\": [16.0, 16.0, 15.0, 14.0, 14.0, 14.0, 11.0, 11.0, 10.0, 9.0, 9.0, 9.0, 9.0, 9.0, 9.0, 9.0], \"line\": {\"color\": \"#B94646\"}, \"name\": \"Peter Reuter\", \"x\": \"Ruby\", \"type\": \"scatter\", \"mode\": \"lines\"}, {\"y\": [16.0, 16.0, 16.0, 15.0, 15.0, 13.0, 13.0, 13.0, 13.0, 13.0, 13.0, 13.0, 13.0, 13.0, 12.0, 12.0], \"line\": {\"color\": \"#FF8C8C\"}, \"name\": \"Cindy Abbott\", \"x\": \"Galena\", \"type\": \"scatter\", \"mode\": \"lines\"}], {\"title\": \"Number of Dogs Used by Winners and Losers\"}, {\"showLink\": true, \"linkText\": \"Export to plot.ly\"})});</script>"
      ]
     },
     "metadata": {},
     "output_type": "display_data"
    }
   ],
   "source": [
    "### Visualize\n",
    "\n",
    "trace_1 = go.Scatter(\n",
    "    mode = 'lines',\n",
    "    x = checkpoints[0],\n",
    "    y = win_los_dogs[0],\n",
    "    name = win_los_names[0],\n",
    "    line=dict(color = '#006400'))\n",
    "\n",
    "trace_2 = go.Scatter(\n",
    "    mode = 'lines',\n",
    "    x = checkpoints[1],\n",
    "    y = win_los_dogs[1],\n",
    "    name = win_los_names[1],\n",
    "    line=dict(color = '\t#41A541'))\n",
    "\n",
    "trace_3 = go.Scatter(\n",
    "    mode = 'lines',\n",
    "    x = checkpoints[2],\n",
    "    y = win_los_dogs[2],\n",
    "    name = win_los_names[2],\n",
    "    line=dict(color = '#6DD66D'))\n",
    "\n",
    "trace_4 = go.Scatter(\n",
    "    mode = 'lines',\n",
    "    x = checkpoints[3],\n",
    "    y = win_los_dogs[3],\n",
    "    name = win_los_names[3],\n",
    "    line=dict(color = '#B90000'))\n",
    "\n",
    "trace_5 = go.Scatter(\n",
    "    mode = 'lines',\n",
    "    x = checkpoints[4],\n",
    "    y = win_los_dogs[4],\n",
    "    name = win_los_names[4],\n",
    "    line=dict(color = '#B94646'))\n",
    "\n",
    "trace_6 = go.Scatter(\n",
    "    mode = 'lines',\n",
    "    x = checkpoints[5],\n",
    "    y = win_los_dogs[5],\n",
    "    name = win_los_names[5],\n",
    "    line=dict(color = '#FF8C8C'))\n",
    "\n",
    "layout = go.Layout(\n",
    "    title = 'Number of Dogs Used by Winners and Losers')\n",
    "\n",
    "data = [trace_1, trace_2, trace_3, trace_4, trace_5, trace_6]\n",
    "\n",
    "fig = go.Figure(data=data, layout=layout)\n",
    "py.offline.iplot(fig)"
   ]
  },
  {
   "cell_type": "markdown",
   "metadata": {},
   "source": [
    "From the chart above, we can find that there seems to be no significant differences of the dogs used strategies between winners and losers, and the trend is as they went closer to the final checkpoint, the number of dogs used would be lower. Moreover, the larger number of dogs used wouldn't serve as a strong determinant for winning."
   ]
  }
 ],
 "metadata": {
  "anaconda-cloud": {},
  "kernelspec": {
   "display_name": "Python 3",
   "language": "python",
   "name": "python3"
  },
  "language_info": {
   "codemirror_mode": {
    "name": "ipython",
    "version": 3
   },
   "file_extension": ".py",
   "mimetype": "text/x-python",
   "name": "python",
   "nbconvert_exporter": "python",
   "pygments_lexer": "ipython3",
   "version": "3.5.2"
  }
 },
 "nbformat": 4,
 "nbformat_minor": 2
}
